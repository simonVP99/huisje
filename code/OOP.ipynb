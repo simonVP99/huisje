{
 "cells": [
  {
   "cell_type": "code",
   "execution_count": 2,
   "metadata": {},
   "outputs": [],
   "source": [
    "import pandas as pd\n",
    "import numpy as np\n",
    "import matplotlib.pyplot as plt"
   ]
  },
  {
   "cell_type": "code",
   "execution_count": 98,
   "metadata": {},
   "outputs": [],
   "source": [
    "class Person:\n",
    "    inflation = 1.02\n",
    "    salary_raise = 1.04\n",
    "\n",
    "    def __init__(self, salary, cashposition, value, age, invested, immo):\n",
    "        self.salary = salary\n",
    "        self.cashposition = cashposition\n",
    "        self.value = value\n",
    "        self.age = age\n",
    "        self.invested = invested\n",
    "        self.immo = immo\n",
    "\n",
    "\n",
    "    def buy_house(self, home_price, interest_rate, loan_term, down_payment_rate, cost_rate):\n",
    "        pass\n",
    "\n",
    "\n",
    "    def update(self, years,salary_raise = salary_raise, buy_house = False, **kwargs):\n",
    "        if buy_house:\n",
    "            self.buy_house(**kwargs)\n",
    "        else:\n",
    "            self.salary *=(self.inflation*salary_raise)**years\n",
    "            self.\n"
   ]
  },
  {
   "cell_type": "code",
   "execution_count": 99,
   "metadata": {},
   "outputs": [],
   "source": [
    "Simon = Person(salary = 5000, cashposition=0, value = 0, age = 25, invested= 0, immo = 0)"
   ]
  },
  {
   "cell_type": "code",
   "execution_count": 100,
   "metadata": {},
   "outputs": [],
   "source": [
    "Simon.buy_house(home_price=50000, interest_rate= 1.036, loan_term = 25, down_payment_rate=.9, cost_rate = 0.065)"
   ]
  },
  {
   "cell_type": "code",
   "execution_count": 101,
   "metadata": {},
   "outputs": [],
   "source": [
    "Simon.update(years = 5,buy_house=False)"
   ]
  },
  {
   "cell_type": "code",
   "execution_count": 102,
   "metadata": {},
   "outputs": [
    {
     "data": {
      "text/plain": [
       "6716.415568487016"
      ]
     },
     "execution_count": 102,
     "metadata": {},
     "output_type": "execute_result"
    }
   ],
   "source": [
    "Simon.salary"
   ]
  },
  {
   "cell_type": "code",
   "execution_count": null,
   "metadata": {},
   "outputs": [],
   "source": []
  }
 ],
 "metadata": {
  "kernelspec": {
   "display_name": "Python 3.10.8 ('huisje': venv)",
   "language": "python",
   "name": "python3"
  },
  "language_info": {
   "codemirror_mode": {
    "name": "ipython",
    "version": 3
   },
   "file_extension": ".py",
   "mimetype": "text/x-python",
   "name": "python",
   "nbconvert_exporter": "python",
   "pygments_lexer": "ipython3",
   "version": "3.10.8"
  },
  "orig_nbformat": 4,
  "vscode": {
   "interpreter": {
    "hash": "2f1ec0f55d23e2fe0f26454717794e0f905ca580161213de51205d35cba6a52b"
   }
  }
 },
 "nbformat": 4,
 "nbformat_minor": 2
}
