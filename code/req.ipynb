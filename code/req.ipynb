{
 "cells": [
  {
   "cell_type": "code",
   "execution_count": 38,
   "metadata": {},
   "outputs": [],
   "source": [
    "from selenium import webdriver\n",
    "from bs4 import BeautifulSoup\n",
    "import time\n",
    "\n",
    "# Initialize the WebDriver\n",
    "driver = webdriver.Chrome()\n",
    "\n",
    "url = 'https://www.biddit.be/nl/catalog/detail/250413'\n",
    "# Open the website\n",
    "driver.get(url)\n",
    "\n",
    "# Wait for dynamic content to load\n",
    "time.sleep(5)  # Adjust the waiting time as necessary\n",
    "\n",
    "# Extract the page source\n",
    "html = driver.page_source\n",
    "\n",
    "# Use BeautifulSoup to parse the HTML\n",
    "soup = BeautifulSoup(html, 'html.parser')\n",
    "\n",
    "# Extract data as needed, similar to how you would with requests + BeautifulSoup\n",
    "\n",
    "# Close the driver\n",
    "driver.quit()"
   ]
  },
  {
   "cell_type": "code",
   "execution_count": 39,
   "metadata": {},
   "outputs": [
    {
     "data": {
      "text/plain": [
       "'\\n\\n\\nBiddit - Huis te koop te GENT (9030) - 2 kamer(s) - 181000€\\n\\n\\n\\n\\n\\n\\n\\n\\n\\n\\n\\n\\n\\n\\n\\n\\n\\nAanmelden NL  Nederlands  Français  Deutsch  FAQ Je mening telt Homepage  Registreren of aanmelden Zoeken  Taal  FAQ 1 / 20 +16  Huis te koop   - 2 kamer(s)  9030 GENT  - Elfnovemberstraat 30    Tonen op kaart  Openbare verkoop\\nHuisCode: 250413 E-mail  Facebook  LinkedIn  Twitter 2366909 uitstekend gelegen te renoveren woning met tuin  Deze woning ligt vlakbij het centrum van Mariakerke, scholen, winkels en het natuurpark Bourgoyen.\\nDe woning is te renoveren.\\nOp het gelijkvloers is er een living, volledig ingerichte keuken, badkamer met ligbad en lavabo en een...  Meer details Kenmerken van het goedAantal slaapkamers2 EnergiegegevensUnieke code van het EPC-certificaatUC 20231019-0003018969-RES-2  Energiescore (kengetal) van het energieprestatiecertificaat (EPC)909 EPCDe wettelijke verplichting tot renovatie is mogelijks van toepassing op dit goed.Dubbele beglazingConformiteitsattest van de elektrische installatieJa, niet gelijkvormigAndere opmerkingenRECHT VAN VOORKOOP VLAAMSE WOONCODE VAN TOEPASSING Financiële aspectenVrij vanafBij de akteKadastraal inkomen€\\xa0366 Stedenbouwkundige gegevensDe meest recente stedebouwkundige bestemming met de benamingen die gebruikt zijn in het plannenregister.woongebied  Toon meer details  Info toewijzing (onder voorbehoud)  donderdag 28 december 2023 om 9u30 op het notariskantoor  Dit goed delen:  Afgelopen biedingsperiode  Wachten op toewijzing Huidig bod  €\\xa0181.000 22/12/2023, 10:39:42 Bod  €\\xa0181.000 22/12/2023, 10:34:46 Bod  €\\xa0180.000 22/12/2023, 10:34:41 Bod  €\\xa0179.000 22/12/2023, 10:29:53 Bod  €\\xa0178.000 22/12/2023, 10:29:46 Bod  €\\xa0177.000 22/12/2023, 10:24:36 Bod  €\\xa0176.000 22/12/2023, 10:24:27 Bod  €\\xa0175.000 22/12/2023, 10:19:52 Bod  €\\xa0174.000 22/12/2023, 10:19:46 Bod  €\\xa0173.000 22/12/2023, 10:14:30 Bod  €\\xa0172.000 22/12/2023, 10:14:20 Bod  €\\xa0171.000 22/12/2023, 10:09:41 Bod  €\\xa0170.000 22/12/2023, 10:09:28 Bod  €\\xa0169.000 22/12/2023, 10:02:54 Bod  €\\xa0168.000 22/12/2023, 10:02:43 Bod  €\\xa0167.000 22/12/2023, 09:57:14 Bod  €\\xa0166.000 22/12/2023, 09:57:06 Bod  €\\xa0165.000 22/12/2023, 09:56:16 Bod  €\\xa0164.000 22/12/2023, 09:56:03 Bod  €\\xa0163.000 22/12/2023, 09:55:56 Bod  €\\xa0162.000 14/12/2023, 10:00:00 Instelprijs  €\\xa0160.000  Toon biedingshistoriek  Contacteer het notariskantoor Notaris Peter Calliauw Brugsesteenweg 555, 9030 Mariakerke (Gent) Wilt u meer weten over deze advertentie? Melissa VERSTRAETE (09) 223.17.31melissa.verstraete.133652@belnot.beBezoekBEZOEK NA TELEFONISCHE AFSPRAAK MET NOTARIAAT CALLIAUW OP 09/224.17.51InfosessieNa telefonische afspraak Belangrijke documenten van de verkoop Verkoopsvoorwaarden.pdf Belangrijke documenten van het goed Bodemattest.pdfVaria.pdfStedenbouw.pdfKadaster.pdfStedenbouw(2).pdfEPC.pdfWaterinfo.pdfVaria(2).pdfVoorkooprecht.pdfAsbestinventarisattest.pdfElektrische installatie.pdfAndere panden waarin u geïnteresseerd zou kunnen zijn €\\xa0365.000  Uit de hand\\n214 m²41 Statige en ruime woning te koop op steenworp van Gent  Aannemersstraat 134  - 9040 Sint-Amandsberg €\\xa0379.000  Uit de hand\\n213 m²31 BEL-ETAGE MET GARAGE & TUIN  Robert Rinskopflaan 35  - 9050 GentToon meerBiddit is het online verkoopplatform van de Belgische notarissen. Via Biddit kunnen kandidaat-kopers vanuit hun luie zetel een eigendom aankopen. Het volledige verkoopproces verloopt online en onder toezicht van een notaris.GebruiksvoorwaardenPrivacyCookiebeleidBijkomende InformatieBiddit online openbare verkoop in 11 vragenVind een notarisEen woning kopenEen woning verkopenHuren en verhurenContacteer onsAlle rechten voorbehouden©2023 Koninklijke Federatie van het Belgisch Notariaat\\n\\n\\n\\n\\n\\n\\n\\n\\n\\n'"
      ]
     },
     "execution_count": 39,
     "metadata": {},
     "output_type": "execute_result"
    }
   ],
   "source": [
    "soup.text"
   ]
  },
  {
   "cell_type": "code",
   "execution_count": 19,
   "metadata": {},
   "outputs": [],
   "source": [
    "import requests\n",
    "from bs4 import BeautifulSoup\n",
    "\n",
    "# URL of the site to scrape\n",
    "rl = 'https://www.biddit.be/nl/search?lat=51.0397129&lng=3.7141549000597&municipalities=Gent&types=HOUSE&nonActive=true&sortVal=&sortKey=searchcomponent.order.enddate&page=1&maps=false'\n",
    "u\n",
    "\n",
    "# Send a request to the URL\n",
    "response = requests.get(url)\n",
    "\n",
    "# Parse the HTML content\n",
    "soup = BeautifulSoup(response.text, 'html.parser')\n",
    "\n"
   ]
  },
  {
   "cell_type": "code",
   "execution_count": 20,
   "metadata": {},
   "outputs": [
    {
     "name": "stdout",
     "output_type": "stream",
     "text": [
      "<!DOCTYPE html>\n",
      "<html lang=\"nl\"><head>\n",
      "<meta charset=\"utf-8\"/>\n",
      "<meta content=\"notranslate\" name=\"google\"/>\n",
      "<title>Biddit</title>\n",
      "<base href=\"/\"/>\n",
      "<meta content=\"Bent u op zoek naar een onroerend goed te koop in België? Koop of verkoop Online een goed op Biddit met het advies van uw notaris en in alle vertrouwen : huis, appartement, garage, grond, kantoren, commercieel gebouw of industrie.\" name=\"description\"/>\n",
      "<meta content=\"wca8x3ahlgrc4m324fqkueaycp2dgy\" name=\"facebook-domain-verification\"/>\n",
      "<meta content=\"width=device-width, initial-scale=1.0, maximum-scale=5.0\" name=\"viewport\"/>\n",
      "<link href=\"favicon_v2.ico\" rel=\"icon\" type=\"image/x-icon\"/>\n",
      "</head><body>\n",
      "<script async=\"async\">\n",
      "    (function (w, d, s, l, i) {\n",
      "      w[l] = w[l] || [];\n",
      "      w[l].push({\n",
      "        'gtm.start':\n",
      "          new Date().getTime(), event: 'gtm.js'\n",
      "      });\n",
      "      var f = d.getElementsByTagName(s)[0],\n",
      "        j = d.createElement(s), dl = l != 'dataLayer' ? '&l=' + l : '';\n",
      "      j.async = true;\n",
      "      j.src =\n",
      "        'https://www.googletagmanager.com/gtm.js?id=' + i + dl;\n",
      "      f.parentNode.insertBefore(j, f);\n",
      "    })(window, document, 'script', 'dataLayer', 'GTM-5C2GPMG');\n",
      "  </script>\n",
      "<style>@import\"https://fonts.googleapis.com/css?family=Montserrat:300,400,500,600,700\";@charset \"UTF-8\";:root{--bs-blue:#0d6efd;--bs-indigo:#6610f2;--bs-purple:#6f42c1;--bs-pink:#d63384;--bs-red:#dc3545;--bs-orange:#fd7e14;--bs-yellow:#ffc107;--bs-green:#198754;--bs-teal:#20c997;--bs-cyan:#0dcaf0;--bs-white:#fff;--bs-gray:#6c757d;--bs-gray-dark:#343a40;--bs-gray-100:#f8f9fa;--bs-gray-200:#e9ecef;--bs-gray-300:#dee2e6;--bs-gray-400:#ced4da;--bs-gray-500:#adb5bd;--bs-gray-600:#6c757d;--bs-gray-700:#495057;--bs-gray-800:#343a40;--bs-gray-900:#212529;--bs-primary:#0d6efd;--bs-secondary:#6c757d;--bs-success:#198754;--bs-info:#0dcaf0;--bs-warning:#ffc107;--bs-danger:#dc3545;--bs-light:#f8f9fa;--bs-dark:#212529;--bs-primary-rgb:13, 110, 253;--bs-secondary-rgb:108, 117, 125;--bs-success-rgb:25, 135, 84;--bs-info-rgb:13, 202, 240;--bs-warning-rgb:255, 193, 7;--bs-danger-rgb:220, 53, 69;--bs-light-rgb:248, 249, 250;--bs-dark-rgb:33, 37, 41;--bs-white-rgb:255, 255, 255;--bs-black-rgb:0, 0, 0;--bs-body-color-rgb:33, 37, 41;--bs-body-bg-rgb:255, 255, 255;--bs-font-sans-serif:system-ui, -apple-system, \"Segoe UI\", Roboto, \"Helvetica Neue\", Arial, \"Noto Sans\", \"Liberation Sans\", sans-serif, \"Apple Color Emoji\", \"Segoe UI Emoji\", \"Segoe UI Symbol\", \"Noto Color Emoji\";--bs-font-monospace:SFMono-Regular, Menlo, Monaco, Consolas, \"Liberation Mono\", \"Courier New\", monospace;--bs-gradient:linear-gradient(180deg, rgba(255, 255, 255, .15), rgba(255, 255, 255, 0));--bs-body-font-family:var(--bs-font-sans-serif);--bs-body-font-size:1rem;--bs-body-font-weight:400;--bs-body-line-height:1.5;--bs-body-color:#212529;--bs-body-bg:white}*,*:before,*:after{box-sizing:border-box}@media (prefers-reduced-motion: no-preference){:root{scroll-behavior:smooth}}body{margin:0;font-family:var(--bs-body-font-family);font-size:var(--bs-body-font-size);font-weight:var(--bs-body-font-weight);line-height:var(--bs-body-line-height);color:var(--bs-body-color);text-align:var(--bs-body-text-align);background-color:var(--bs-body-bg);-webkit-text-size-adjust:100%;-webkit-tap-highlight-color:rgba(0,0,0,0)}html,body{font-family:Montserrat,sans-serif;color:#304753}#loader{position:absolute;inset:0;margin:auto;border:10px solid #e9ecef;border-top-color:#ef3829;border-radius:50%;width:100px;height:100px;animation:spin 2s linear infinite}@keyframes spin{0%{transform:rotate(0)}to{transform:rotate(360deg)}}:root{--swiper-theme-color:#007aff}:root{--swiper-navigation-size:44px}</style><link crossorigin=\"use-credentials\" href=\"styles.da4bde4d22465613.css\" media=\"print\" onload=\"this.media='all'\" rel=\"stylesheet\"/><noscript><link href=\"styles.da4bde4d22465613.css\" rel=\"stylesheet\"/></noscript>\n",
      "<noscript>\n",
      "<iframe height=\"0\" src=\"https://www.googletagmanager.com/ns.html?id=GTM-5C2GPMG\" style=\"display:none;visibility:hidden\" width=\"0\"></iframe>\n",
      "</noscript>\n",
      "<app-root>\n",
      "<div id=\"loader\"></div>\n",
      "</app-root>\n",
      "<script crossorigin=\"use-credentials\" src=\"runtime.9fa620fe5d9856c1.js\" type=\"module\"></script><script crossorigin=\"use-credentials\" src=\"polyfills.47b941bf71538459.js\" type=\"module\"></script><script crossorigin=\"use-credentials\" src=\"main.fd5d0013bd84b0f5.js\" type=\"module\"></script>\n",
      "<style>\n",
      "  @media screen {\n",
      "    @page { margin: 0; }\n",
      "  }\n",
      "  @media print {\n",
      "    @page {\n",
      "      margin-top: 1in;\n",
      "      margin-bottom: 1in;\n",
      "    }\n",
      "  }\n",
      "  body {\n",
      "    -webkit-print-color-adjust: exact;\n",
      "  }\n",
      "</style>\n",
      "</body></html>\n"
     ]
    }
   ],
   "source": [
    "print(soup)"
   ]
  },
  {
   "cell_type": "code",
   "execution_count": 17,
   "metadata": {},
   "outputs": [],
   "source": [
    "# Find elements containing listings - adjust the selector as per the website's structure\n",
    "listings = soup.find_all('TAG_NAME', class_='col-8 handling-method-sticker')\n",
    "\n",
    "# Loop through listings and extract data\n",
    "for listing in listings:\n",
    "    # Extract data like title, price, etc.\n",
    "    title = listing.find('TAG_NAME', class_='app-property-display').text\n",
    "    # Continue extracting other data as needed\n",
    "\n",
    "    # Print or store the extracted data\n",
    "    print(title)\n",
    "    # Continue with other data"
   ]
  },
  {
   "cell_type": "markdown",
   "metadata": {},
   "source": []
  },
  {
   "cell_type": "code",
   "execution_count": 12,
   "metadata": {},
   "outputs": [
    {
     "name": "stderr",
     "output_type": "stream",
     "text": [
      "18380.24s - pydevd: Sending message related to process being replaced timed-out after 5 seconds\n"
     ]
    },
    {
     "name": "stdout",
     "output_type": "stream",
     "text": [
      "Collecting beautifulsoup\n",
      "  Downloading BeautifulSoup-3.2.2.tar.gz (32 kB)\n",
      "  Installing build dependencies ... \u001b[?25ldone\n",
      "\u001b[?25h  Getting requirements to build wheel ... \u001b[?25lerror\n",
      "  \u001b[1;31merror\u001b[0m: \u001b[1msubprocess-exited-with-error\u001b[0m\n",
      "  \n",
      "  \u001b[31m×\u001b[0m \u001b[32mGetting requirements to build wheel\u001b[0m did not run successfully.\n",
      "  \u001b[31m│\u001b[0m exit code: \u001b[1;36m1\u001b[0m\n",
      "  \u001b[31m╰─>\u001b[0m \u001b[31m[19 lines of output]\u001b[0m\n",
      "  \u001b[31m   \u001b[0m Traceback (most recent call last):\n",
      "  \u001b[31m   \u001b[0m   File \"/Users/simon/Desktop/personal/huisje/venv/lib/python3.9/site-packages/pip/_vendor/pyproject_hooks/_in_process/_in_process.py\", line 353, in <module>\n",
      "  \u001b[31m   \u001b[0m     main()\n",
      "  \u001b[31m   \u001b[0m   File \"/Users/simon/Desktop/personal/huisje/venv/lib/python3.9/site-packages/pip/_vendor/pyproject_hooks/_in_process/_in_process.py\", line 335, in main\n",
      "  \u001b[31m   \u001b[0m     json_out['return_val'] = hook(**hook_input['kwargs'])\n",
      "  \u001b[31m   \u001b[0m   File \"/Users/simon/Desktop/personal/huisje/venv/lib/python3.9/site-packages/pip/_vendor/pyproject_hooks/_in_process/_in_process.py\", line 118, in get_requires_for_build_wheel\n",
      "  \u001b[31m   \u001b[0m     return hook(config_settings)\n",
      "  \u001b[31m   \u001b[0m   File \"/private/var/folders/qq/3m8nq_ls0rj7d75bks5prfyw0000gn/T/pip-build-env-yu800skg/overlay/lib/python3.9/site-packages/setuptools/build_meta.py\", line 325, in get_requires_for_build_wheel\n",
      "  \u001b[31m   \u001b[0m     return self._get_build_requires(config_settings, requirements=['wheel'])\n",
      "  \u001b[31m   \u001b[0m   File \"/private/var/folders/qq/3m8nq_ls0rj7d75bks5prfyw0000gn/T/pip-build-env-yu800skg/overlay/lib/python3.9/site-packages/setuptools/build_meta.py\", line 295, in _get_build_requires\n",
      "  \u001b[31m   \u001b[0m     self.run_setup()\n",
      "  \u001b[31m   \u001b[0m   File \"/private/var/folders/qq/3m8nq_ls0rj7d75bks5prfyw0000gn/T/pip-build-env-yu800skg/overlay/lib/python3.9/site-packages/setuptools/build_meta.py\", line 480, in run_setup\n",
      "  \u001b[31m   \u001b[0m     super(_BuildMetaLegacyBackend, self).run_setup(setup_script=setup_script)\n",
      "  \u001b[31m   \u001b[0m   File \"/private/var/folders/qq/3m8nq_ls0rj7d75bks5prfyw0000gn/T/pip-build-env-yu800skg/overlay/lib/python3.9/site-packages/setuptools/build_meta.py\", line 311, in run_setup\n",
      "  \u001b[31m   \u001b[0m     exec(code, locals())\n",
      "  \u001b[31m   \u001b[0m   File \"<string>\", line 3\n",
      "  \u001b[31m   \u001b[0m     \"You're trying to run a very old release of Beautiful Soup under Python 3. This will not work.\"<>\"Please use Beautiful Soup 4, available through the pip package 'beautifulsoup4'.\"\n",
      "  \u001b[31m   \u001b[0m                                                                                                    ^\n",
      "  \u001b[31m   \u001b[0m SyntaxError: invalid syntax\n",
      "  \u001b[31m   \u001b[0m \u001b[31m[end of output]\u001b[0m\n",
      "  \n",
      "  \u001b[1;35mnote\u001b[0m: This error originates from a subprocess, and is likely not a problem with pip.\n",
      "\u001b[?25h\u001b[1;31merror\u001b[0m: \u001b[1msubprocess-exited-with-error\u001b[0m\n",
      "\n",
      "\u001b[31m×\u001b[0m \u001b[32mGetting requirements to build wheel\u001b[0m did not run successfully.\n",
      "\u001b[31m│\u001b[0m exit code: \u001b[1;36m1\u001b[0m\n",
      "\u001b[31m╰─>\u001b[0m See above for output.\n",
      "\n",
      "\u001b[1;35mnote\u001b[0m: This error originates from a subprocess, and is likely not a problem with pip.\n"
     ]
    }
   ],
   "source": [
    "!pip install beautifulsoup"
   ]
  },
  {
   "cell_type": "code",
   "execution_count": null,
   "metadata": {},
   "outputs": [],
   "source": []
  }
 ],
 "metadata": {
  "kernelspec": {
   "display_name": "venv",
   "language": "python",
   "name": "python3"
  },
  "language_info": {
   "codemirror_mode": {
    "name": "ipython",
    "version": 3
   },
   "file_extension": ".py",
   "mimetype": "text/x-python",
   "name": "python",
   "nbconvert_exporter": "python",
   "pygments_lexer": "ipython3",
   "version": "3.9.6"
  },
  "orig_nbformat": 4
 },
 "nbformat": 4,
 "nbformat_minor": 2
}
