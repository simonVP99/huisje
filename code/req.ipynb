{
 "cells": [
  {
   "cell_type": "code",
   "execution_count": 2,
   "metadata": {},
   "outputs": [
    {
     "name": "stderr",
     "output_type": "stream",
     "text": [
      "/Users/simon/Desktop/personal/huisje/venv/lib/python3.9/site-packages/urllib3/__init__.py:34: NotOpenSSLWarning: urllib3 v2 only supports OpenSSL 1.1.1+, currently the 'ssl' module is compiled with 'LibreSSL 2.8.3'. See: https://github.com/urllib3/urllib3/issues/3020\n",
      "  warnings.warn(\n"
     ]
    }
   ],
   "source": [
    "import requests"
   ]
  },
  {
   "cell_type": "code",
   "execution_count": 4,
   "metadata": {},
   "outputs": [],
   "source": [
    "url = 'https://www.biddit.be/nl/catalog/detail/250866'\n",
    "output = requests.get(url)"
   ]
  },
  {
   "cell_type": "code",
   "execution_count": 5,
   "metadata": {},
   "outputs": [
    {
     "data": {
      "text/plain": [
       "b'<!DOCTYPE html><html lang=\"nl\"><head>\\n  <meta charset=\"utf-8\">\\n  <meta name=\"google\" content=\"notranslate\">\\n  <title>Biddit</title>\\n  <base href=\"/\">\\n\\n  <meta name=\"description\" content=\"Bent u op zoek naar een onroerend goed te koop in Belgi\\xc3\\xab? Koop of verkoop Online een goed op Biddit met het advies van uw notaris en in alle vertrouwen : huis, appartement, garage, grond, kantoren, commercieel gebouw of industrie.\">\\n  <meta name=\"facebook-domain-verification\" content=\"wca8x3ahlgrc4m324fqkueaycp2dgy\">\\n  <meta name=\"viewport\" content=\"width=device-width, initial-scale=1.0, maximum-scale=5.0\">\\n  <link rel=\"icon\" type=\"image/x-icon\" href=\"favicon_v2.ico\">\\n  \\n  </head><body>\\n    <meta property=\"og:type\" content=\"website\">\\n    <meta property=\"og:title\" content=\"Wolvertem - Huis 4 gevel te koop 3 slaapkamers en garage en tuin\">\\n    <meta property=\"og:url\" content=\"https://www.biddit.be/catalog/detail/250866?lang=nl\">\\n    <meta property=\"og:description\" content=\"Bezoek of AFSPRAAK (02.269/12/74) TUSSEN KERSTPERIODE van 23/12/2023 tot/met 03/01/2024\\n4 gevelswoning - straatbreedte +-30m \\ntuin van 15/20m diepte\\nGELIJKVLOER\\ngarage van 9m lang\\ninganghall met toilet\\nliving en eetkamer\\ningerichte keuken (10 jaar geleden)\\nbadkamer met bad (te renoveren) \\n2 kamers\\nbuanderie met verwarmingsketel\\nBOVEN\\n1 grote kamer\\nzolder\\n\\n\">\\n    <meta property=\"og:image\" content=\"https://www.biddit.be/stg/eco/images/p_3143b1c4283c4e328fc49db8b44a01ab/m/pp_a20cb6be0f574815afeef96a95260c30.jpeg\">\\n    <meta property=\"og:locale\" content=\"nl_BE\">\\n    \\n  \\n  <script async=\"async\">\\n    (function (w, d, s, l, i) {\\n      w[l] = w[l] || [];\\n      w[l].push({\\n        \\'gtm.start\\':\\n          new Date().getTime(), event: \\'gtm.js\\'\\n      });\\n      var f = d.getElementsByTagName(s)[0],\\n        j = d.createElement(s), dl = l != \\'dataLayer\\' ? \\'&l=\\' + l : \\'\\';\\n      j.async = true;\\n      j.src =\\n        \\'https://www.googletagmanager.com/gtm.js?id=\\' + i + dl;\\n      f.parentNode.insertBefore(j, f);\\n    })(window, document, \\'script\\', \\'dataLayer\\', \\'GTM-5C2GPMG\\');\\n  </script>\\n  \\n<style>@import\"https://fonts.googleapis.com/css?family=Montserrat:300,400,500,600,700\";@charset \"UTF-8\";:root{--bs-blue:#0d6efd;--bs-indigo:#6610f2;--bs-purple:#6f42c1;--bs-pink:#d63384;--bs-red:#dc3545;--bs-orange:#fd7e14;--bs-yellow:#ffc107;--bs-green:#198754;--bs-teal:#20c997;--bs-cyan:#0dcaf0;--bs-white:#fff;--bs-gray:#6c757d;--bs-gray-dark:#343a40;--bs-gray-100:#f8f9fa;--bs-gray-200:#e9ecef;--bs-gray-300:#dee2e6;--bs-gray-400:#ced4da;--bs-gray-500:#adb5bd;--bs-gray-600:#6c757d;--bs-gray-700:#495057;--bs-gray-800:#343a40;--bs-gray-900:#212529;--bs-primary:#0d6efd;--bs-secondary:#6c757d;--bs-success:#198754;--bs-info:#0dcaf0;--bs-warning:#ffc107;--bs-danger:#dc3545;--bs-light:#f8f9fa;--bs-dark:#212529;--bs-primary-rgb:13, 110, 253;--bs-secondary-rgb:108, 117, 125;--bs-success-rgb:25, 135, 84;--bs-info-rgb:13, 202, 240;--bs-warning-rgb:255, 193, 7;--bs-danger-rgb:220, 53, 69;--bs-light-rgb:248, 249, 250;--bs-dark-rgb:33, 37, 41;--bs-white-rgb:255, 255, 255;--bs-black-rgb:0, 0, 0;--bs-body-color-rgb:33, 37, 41;--bs-body-bg-rgb:255, 255, 255;--bs-font-sans-serif:system-ui, -apple-system, \"Segoe UI\", Roboto, \"Helvetica Neue\", Arial, \"Noto Sans\", \"Liberation Sans\", sans-serif, \"Apple Color Emoji\", \"Segoe UI Emoji\", \"Segoe UI Symbol\", \"Noto Color Emoji\";--bs-font-monospace:SFMono-Regular, Menlo, Monaco, Consolas, \"Liberation Mono\", \"Courier New\", monospace;--bs-gradient:linear-gradient(180deg, rgba(255, 255, 255, .15), rgba(255, 255, 255, 0));--bs-body-font-family:var(--bs-font-sans-serif);--bs-body-font-size:1rem;--bs-body-font-weight:400;--bs-body-line-height:1.5;--bs-body-color:#212529;--bs-body-bg:white}*,*:before,*:after{box-sizing:border-box}@media (prefers-reduced-motion: no-preference){:root{scroll-behavior:smooth}}body{margin:0;font-family:var(--bs-body-font-family);font-size:var(--bs-body-font-size);font-weight:var(--bs-body-font-weight);line-height:var(--bs-body-line-height);color:var(--bs-body-color);text-align:var(--bs-body-text-align);background-color:var(--bs-body-bg);-webkit-text-size-adjust:100%;-webkit-tap-highlight-color:rgba(0,0,0,0)}html,body{font-family:Montserrat,sans-serif;color:#304753}#loader{position:absolute;inset:0;margin:auto;border:10px solid #e9ecef;border-top-color:#ef3829;border-radius:50%;width:100px;height:100px;animation:spin 2s linear infinite}@keyframes spin{0%{transform:rotate(0)}to{transform:rotate(360deg)}}:root{--swiper-theme-color:#007aff}:root{--swiper-navigation-size:44px}</style><link rel=\"stylesheet\" href=\"styles.da4bde4d22465613.css\" crossorigin=\"use-credentials\" media=\"print\" onload=\"this.media=\\'all\\'\"><noscript><link rel=\"stylesheet\" href=\"styles.da4bde4d22465613.css\"></noscript>\\n\\n<noscript>\\n  <iframe src=\"https://www.googletagmanager.com/ns.html?id=GTM-5C2GPMG\"\\n          height=\"0\" width=\"0\" style=\"display:none;visibility:hidden\"></iframe>\\n</noscript>\\n\\n<app-root>\\n  <div id=\"loader\"></div>\\n</app-root>\\n<script src=\"runtime.9fa620fe5d9856c1.js\" type=\"module\" crossorigin=\"use-credentials\"></script><script src=\"polyfills.47b941bf71538459.js\" type=\"module\" crossorigin=\"use-credentials\"></script><script src=\"main.fd5d0013bd84b0f5.js\" type=\"module\" crossorigin=\"use-credentials\"></script>\\n\\n<style>\\n  @media screen {\\n    @page { margin: 0; }\\n  }\\n  @media print {\\n    @page {\\n      margin-top: 1in;\\n      margin-bottom: 1in;\\n    }\\n  }\\n  body {\\n    -webkit-print-color-adjust: exact;\\n  }\\n</style>\\n</body></html>'"
      ]
     },
     "execution_count": 5,
     "metadata": {},
     "output_type": "execute_result"
    }
   ],
   "source": [
    "output.content"
   ]
  },
  {
   "cell_type": "code",
   "execution_count": null,
   "metadata": {},
   "outputs": [],
   "source": []
  }
 ],
 "metadata": {
  "kernelspec": {
   "display_name": "venv",
   "language": "python",
   "name": "python3"
  },
  "language_info": {
   "codemirror_mode": {
    "name": "ipython",
    "version": 3
   },
   "file_extension": ".py",
   "mimetype": "text/x-python",
   "name": "python",
   "nbconvert_exporter": "python",
   "pygments_lexer": "ipython3",
   "version": "3.9.6"
  },
  "orig_nbformat": 4
 },
 "nbformat": 4,
 "nbformat_minor": 2
}
