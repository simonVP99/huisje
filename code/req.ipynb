{
 "cells": [
  {
   "cell_type": "code",
   "execution_count": 32,
   "metadata": {},
   "outputs": [
    {
     "name": "stdout",
     "output_type": "stream",
     "text": [
      "Error:  Message: move target out of bounds\n",
      "  (Session info: chrome=120.0.6099.234)\n",
      "Stacktrace:\n",
      "0   chromedriver                        0x00000001005184dc chromedriver + 4162780\n",
      "1   chromedriver                        0x0000000100510664 chromedriver + 4130404\n",
      "2   chromedriver                        0x00000001001679f8 chromedriver + 293368\n",
      "3   chromedriver                        0x00000001001f6478 chromedriver + 877688\n",
      "4   chromedriver                        0x00000001001edab0 chromedriver + 842416\n",
      "5   chromedriver                        0x00000001001a16bc chromedriver + 530108\n",
      "6   chromedriver                        0x00000001001a2930 chromedriver + 534832\n",
      "7   chromedriver                        0x00000001004dde08 chromedriver + 3923464\n",
      "8   chromedriver                        0x00000001004e23dc chromedriver + 3941340\n",
      "9   chromedriver                        0x00000001004c6038 chromedriver + 3825720\n",
      "10  chromedriver                        0x00000001004e2f3c chromedriver + 3944252\n",
      "11  chromedriver                        0x00000001004b86f4 chromedriver + 3770100\n",
      "12  chromedriver                        0x00000001004ff980 chromedriver + 4061568\n",
      "13  chromedriver                        0x00000001004ffaf8 chromedriver + 4061944\n",
      "14  chromedriver                        0x00000001005102e4 chromedriver + 4129508\n",
      "15  libsystem_pthread.dylib             0x0000000183835034 _pthread_start + 136\n",
      "16  libsystem_pthread.dylib             0x000000018382fe3c thread_start + 8\n",
      "\n",
      "\n",
      "\n",
      "\n",
      "Biddit - Huis te koop te Gent (9000) - 2 kamer(s) - 180000€\n",
      "\n",
      "\n",
      "\n",
      "\n",
      "\n",
      "\n",
      "\n",
      "\n",
      "\n",
      "\n",
      "\n",
      "\n",
      "\n",
      "\n",
      "\n",
      "\n",
      "\n",
      "Aanmelden NL  Nederlands  Français  Deutsch  FAQ Je mening telt Homepage  Registreren of aanmelden Zoeken  Taal  FAQ 1 / 21 Virtueel bezoek  Video  +18  Huis te koop   - 2 kamer(s)  9000 Gent  - De Pintelaan 52    Tonen op kaart  Openbare verkoop\n",
      "HuisCode: 252452 E-mail  Facebook  LinkedIn  Twitter  Deze online verkoop bevat meerdere goederen die afzonderlijk verkocht worden  Bekijk de andere goederen 18502285791 LOT 2 - TE RENOVEREN WONING  Met 2 slaapkamers & grote tuin.\n",
      "Zolder.\n",
      "Wg, Gvg, Gmo, Gvkr, Gvv. Renovatieplicht. Kenmerken van het goedBouwjaar1850 Oppervlakte grond313  m²Aantal slaapkamers2 Aantal gevels2 Bijkomende informatieZolderInformatie gronden en tuinTuinEnergiegegevensEnergiescore (kengetal) van het energieprestatiecertificaat (EPC)791 EPCDe wettelijke verplichting tot renovatie is mogelijks van toepassing op dit goed.Financiële aspectenVrij vanafBij de akteKadastraal inkomen€ 285  Toon meer details  Dit goed delen: Start op 14/02/2024 om 12:00 eindigt op 22/02/2024 om 12:00 uur  Bieden vanaf  € 180.000  Bieden  Contacteer het notariskantoor  Belangrijke informatie U blijft gebonden door uw bod zelfs indien iemand een hoger bod heeft uitgebracht dan u. Indien de notaris u uitnodigt om de verkoopakte te ondertekenen en u niet verschijnt, moet u een schadevergoeding betalen.Uw bod moet het huidige bod met minimaal € 1.000 overschrijden. De biedingsperiode van deze verkoop eindigt op 12:00 op de laatste biedingsdag. Indien één of meerdere biedingen worden uitgebracht tijdens de laatste vijf minuten van de initiële biedingsperiode, zal de verkoop verlengd worden met vijf minuten tot ten laatste 23:59.  Enkel de bieders die reeds een bod hebben uitgebracht tijdens de initiële biedingsperiode kunnen biedingen uitbrengen tijdens de verlenging.De aktekosten van de aankoop moeten worden betaald op het ogenblik van de ondertekening van het proces-verbaal van toewijzing, doch uiterlijk vijf dagen na de afsluiting van de biedingsperiode.Wenst u het biedingsproces te testen? Probeer het hier uit Meer weten over de procedure?  Raadpleeg onze FAQ  Wilt u de kosten voor uw aankoop en uw krediet berekenen?  Ga dan naar de kostencalculator. BOSTOEN, Virginie Hoogstraat 30, 9000 Gent Wilt u meer weten over deze advertentie? Gregory ONGENAE (09) 225.29.63gregory@notarisbostoen.beBezoekZONDER VOORAFGAANDE AFSPRAAK elke woensdag van 14u-16u en elke zaterdag van 14u-16u en dit vanaf zaterdag 20 januari 2024 tot en met woensdag 21 februari 2024. Belangrijke documenten van de verkoop Verkoopsvoorwaarden.pdf Belangrijke documenten van het goed Waterinfo.pdfVoorkooprecht.pdfVaria.pdfEPC.pdfOnroerend erfgoed.pdfAsbestinventarisattest.pdfVaria(2).pdfKadaster.pdfVaria(3).pdfBodemattest.pdfWaterinfo(2).pdfKadaster(2).pdfElektrische installatie.pdf Andere panden in deze verkoop (2)  € 180.000  Start op 14/02 12:00  Openbare verkoop\n",
      "314 m²2 LOT 1 - TE RENOVEREN WONING  De Pintelaan 50  - 9000 Gent € 360.000  Start op 14/02 13:00  Openbare verkoop\n",
      "627 m²4 LOT 3 - TE RENOVEREN WONINGEN  De Pintelaan 50-52  - 9000 GentAndere panden waarin u geïnteresseerd zou kunnen zijn € 152.000  Eindigt op 24/01 11:00  Openbare verkoop\n",
      "104 m²31 CENTRAAL GELEGEN WONING  Herlegemstraat 1  - 9040 Sint-Amandsberg € 365.000  Uit de hand\n",
      "214 m²41 Statige en ruime woning te koop op steenworp van Gent  Aannemersstraat 134  - 9040 Sint-AmandsbergToon meerBiddit is het online verkoopplatform van de Belgische notarissen. Via Biddit kunnen kandidaat-kopers vanuit hun luie zetel een eigendom aankopen. Het volledige verkoopproces verloopt online en onder toezicht van een notaris.GebruiksvoorwaardenPrivacyCookiebeleidBijkomende InformatieBiddit online openbare verkoop in 11 vragenVind een notarisEen woning kopenEen woning verkopenHuren en verhurenContacteer onsAlle rechten voorbehouden©2023 Koninklijke Federatie van het Belgisch Notariaat\n",
      "\n",
      "\n",
      "\n",
      "\n",
      "\n",
      "\n",
      "\n",
      "\n",
      "\n",
      "\n"
     ]
    }
   ],
   "source": [
    "from selenium import webdriver\n",
    "from selenium.webdriver.common.by import By\n",
    "from selenium.webdriver.common.action_chains import ActionChains\n",
    "from selenium.webdriver.support.ui import WebDriverWait\n",
    "from selenium.webdriver.support import expected_conditions as EC\n",
    "from bs4 import BeautifulSoup\n",
    "\n",
    "# Initialize the WebDriver\n",
    "driver = webdriver.Chrome()\n",
    "\n",
    "url = 'https://www.biddit.be/nl/catalog/detail/252452'\n",
    "# Open the website\n",
    "driver.get(url)\n",
    "\n",
    "# Set a timeout for waiting (e.g., 10 seconds)\n",
    "timeout = 10\n",
    "\n",
    "try:\n",
    "    # Wait until the cookie acceptance button is present\n",
    "    cookie_button = WebDriverWait(driver, timeout).until(\n",
    "        EC.presence_of_element_located((By.CSS_SELECTOR, \"button.btn.btn-primary.mb-2\"))\n",
    "    )\n",
    "    # Scroll to the cookie button and click it\n",
    "    ActionChains(driver).move_to_element(cookie_button).perform()\n",
    "    cookie_button.click()\n",
    "    time.sleep(5)\n",
    "\n",
    "    # Wait until the 'Toon meer details' button is present\n",
    "    details_button = WebDriverWait(driver, timeout).until(\n",
    "        EC.presence_of_element_located((By.CSS_SELECTOR, \"a.d-inline.ng-star-inserted\"))\n",
    "    )\n",
    "    # Scroll to the 'Toon meer details' button and click it\n",
    "    ActionChains(driver).move_to_element(details_button).perform()\n",
    "    time.sleep(2)\n",
    "    details_button.click()\n",
    "\n",
    "except Exception as e:\n",
    "    print(\"Error: \", e)\n",
    "\n",
    "# Extract the page source\n",
    "html = driver.page_source\n",
    "\n",
    "# Use BeautifulSoup to parse the HTML\n",
    "soup = BeautifulSoup(html, 'html.parser')\n",
    "\n",
    "# Extract and print text\n",
    "page_text = soup.get_text()\n",
    "print(page_text)\n",
    "\n",
    "# Write the text to a file\n",
    "with open('webpage_text.txt', 'w', encoding='utf-8') as file:\n",
    "    file.write(page_text)\n",
    "\n",
    "# Close the driver\n",
    "driver.quit()\n"
   ]
  },
  {
   "cell_type": "code",
   "execution_count": 25,
   "metadata": {},
   "outputs": [
    {
     "data": {
      "text/plain": [
       "'\\n\\n\\nBiddit - Huis te koop te Gent (9000) - 2 kamer(s) - 180000€\\n\\n\\n\\n\\n\\n\\n\\n\\n\\n\\n\\n\\n\\n\\n\\n\\n\\nAanmelden NL  Nederlands  Français  Deutsch  FAQ Je mening telt Homepage  Registreren of aanmelden Zoeken  Taal  FAQ 1 / 21 Virtueel bezoek  Video  +18  Huis te koop   - 2 kamer(s)  9000 Gent  - De Pintelaan 52    Tonen op kaart  Openbare verkoop\\nHuisCode: 252452 E-mail  Deze online verkoop bevat meerdere goederen die afzonderlijk verkocht worden  Bekijk de andere goederen 18502285791 LOT 2 - TE RENOVEREN WONING  Met 2 slaapkamers & grote tuin.\\nZolder.\\nWg, Gvg, Gmo, Gvkr, Gvv. Renovatieplicht. Kenmerken van het goedBouwjaar1850 Oppervlakte grond313  m²Aantal slaapkamers2 Aantal gevels2 Bijkomende informatieZolderInformatie gronden en tuinTuinEnergiegegevensEnergiescore (kengetal) van het energieprestatiecertificaat (EPC)791 EPCDe wettelijke verplichting tot renovatie is mogelijks van toepassing op dit goed.Financiële aspectenVrij vanafBij de akteKadastraal inkomen€\\xa0285  Toon meer details  Dit goed delen: Start op 14/02/2024 om 12:00 eindigt op 22/02/2024 om 12:00 uur  Bieden vanaf  €\\xa0180.000  Bieden  Contacteer het notariskantoor  Belangrijke informatie U blijft gebonden door uw bod zelfs indien iemand een hoger bod heeft uitgebracht dan u. Indien de notaris u uitnodigt om de verkoopakte te ondertekenen en u niet verschijnt, moet u een schadevergoeding betalen.Uw bod moet het huidige bod met minimaal €\\xa01.000 overschrijden. De biedingsperiode van deze verkoop eindigt op 12:00 op de laatste biedingsdag. Indien één of meerdere biedingen worden uitgebracht tijdens de laatste vijf minuten van de initiële biedingsperiode, zal de verkoop verlengd worden met vijf minuten tot ten laatste 23:59.  Enkel de bieders die reeds een bod hebben uitgebracht tijdens de initiële biedingsperiode kunnen biedingen uitbrengen tijdens de verlenging.De aktekosten van de aankoop moeten worden betaald op het ogenblik van de ondertekening van het proces-verbaal van toewijzing, doch uiterlijk vijf dagen na de afsluiting van de biedingsperiode.Wenst u het biedingsproces te testen? Probeer het hier uit Meer weten over de procedure?  Raadpleeg onze FAQ  Wilt u de kosten voor uw aankoop en uw krediet berekenen?  Ga dan naar de kostencalculator. BOSTOEN, Virginie Hoogstraat 30, 9000 Gent Wilt u meer weten over deze advertentie? Gregory ONGENAE (09) 225.29.63gregory@notarisbostoen.beBezoekZONDER VOORAFGAANDE AFSPRAAK elke woensdag van 14u-16u en elke zaterdag van 14u-16u en dit vanaf zaterdag 20 januari 2024 tot en met woensdag 21 februari 2024. Belangrijke documenten van de verkoop Verkoopsvoorwaarden.pdf Belangrijke documenten van het goed Waterinfo.pdfVoorkooprecht.pdfVaria.pdfEPC.pdfOnroerend erfgoed.pdfAsbestinventarisattest.pdfVaria(2).pdfKadaster.pdfVaria(3).pdfBodemattest.pdfWaterinfo(2).pdfKadaster(2).pdfElektrische installatie.pdf Andere panden in deze verkoop (2)  €\\xa0180.000  Start op 14/02 12:00  Openbare verkoop\\n314 m²2 LOT 1 - TE RENOVEREN WONING  De Pintelaan 50  - 9000 Gent €\\xa0360.000  Start op 14/02 13:00  Openbare verkoop\\n627 m²4 LOT 3 - TE RENOVEREN WONINGEN  De Pintelaan 50-52  - 9000 GentAndere panden waarin u geïnteresseerd zou kunnen zijn €\\xa0152.000  Eindigt op 24/01 11:00  Openbare verkoop\\n104 m²31 CENTRAAL GELEGEN WONING  Herlegemstraat 1  - 9040 Sint-Amandsberg €\\xa0365.000  Uit de hand\\n214 m²41 Statige en ruime woning te koop op steenworp van Gent  Aannemersstraat 134  - 9040 Sint-AmandsbergToon meernl | fr | deGebruik van Cookies Om u de best mogelijke service te kunnen bieden en u service op maat te bieden, maakt Biddit gebruik van cookies (functionele, marketing, sociale media en statistische cookies). U kan alle cookies aanvaarden of uw voorkeuren instellen. Indien u meer informatie wilt over het gebruik van deze cookies, kan u ons cookiebeleid raadplegen.\\n  Alle cookies aanvaarden  Enkel functionele cookies aanvaarden Voorkeuren instellenBiddit is het online verkoopplatform van de Belgische notarissen. Via Biddit kunnen kandidaat-kopers vanuit hun luie zetel een eigendom aankopen. Het volledige verkoopproces verloopt online en onder toezicht van een notaris.GebruiksvoorwaardenPrivacyCookiebeleidBijkomende InformatieBiddit online openbare verkoop in 11 vragenVind een notarisEen woning kopenEen woning verkopenHuren en verhurenContacteer onsAlle rechten voorbehouden©2023 Koninklijke Federatie van het Belgisch Notariaat\\n\\n\\n\\n'"
      ]
     },
     "execution_count": 25,
     "metadata": {},
     "output_type": "execute_result"
    }
   ],
   "source": [
    "soup.text"
   ]
  },
  {
   "cell_type": "code",
   "execution_count": 10,
   "metadata": {},
   "outputs": [],
   "source": [
    "import requests\n",
    "from bs4 import BeautifulSoup\n",
    "\n",
    "# URL of the site to scrape\n",
    "url = 'https://www.biddit.be/nl/search?lat=51.0397129&lng=3.7141549000597&municipalities=Gent&types=HOUSE&nonActive=true&sortVal=&sortKey=searchcomponent.order.enddate&page=1&maps=false'\n",
    "\n",
    "\n",
    "# Send a request to the URL\n",
    "response = requests.get(url)\n",
    "\n",
    "# Parse the HTML content\n",
    "soup = BeautifulSoup(response.text, 'html.parser')\n",
    "\n"
   ]
  },
  {
   "cell_type": "code",
   "execution_count": 11,
   "metadata": {},
   "outputs": [
    {
     "name": "stdout",
     "output_type": "stream",
     "text": [
      "<!DOCTYPE html>\n",
      "<html lang=\"nl\"><head>\n",
      "<meta charset=\"utf-8\"/>\n",
      "<meta content=\"notranslate\" name=\"google\"/>\n",
      "<title>Biddit</title>\n",
      "<base href=\"/\"/>\n",
      "<meta content=\"Bent u op zoek naar een onroerend goed te koop in België? Koop of verkoop Online een goed op Biddit met het advies van uw notaris en in alle vertrouwen : huis, appartement, garage, grond, kantoren, commercieel gebouw of industrie.\" name=\"description\"/>\n",
      "<meta content=\"wca8x3ahlgrc4m324fqkueaycp2dgy\" name=\"facebook-domain-verification\"/>\n",
      "<meta content=\"width=device-width, initial-scale=1.0, maximum-scale=5.0\" name=\"viewport\"/>\n",
      "<link href=\"favicon_v2.ico\" rel=\"icon\" type=\"image/x-icon\"/>\n",
      "</head><body>\n",
      "<script async=\"async\">\n",
      "    (function (w, d, s, l, i) {\n",
      "      w[l] = w[l] || [];\n",
      "      w[l].push({\n",
      "        'gtm.start':\n",
      "          new Date().getTime(), event: 'gtm.js'\n",
      "      });\n",
      "      var f = d.getElementsByTagName(s)[0],\n",
      "        j = d.createElement(s), dl = l != 'dataLayer' ? '&l=' + l : '';\n",
      "      j.async = true;\n",
      "      j.src =\n",
      "        'https://www.googletagmanager.com/gtm.js?id=' + i + dl;\n",
      "      f.parentNode.insertBefore(j, f);\n",
      "    })(window, document, 'script', 'dataLayer', 'GTM-5C2GPMG');\n",
      "  </script>\n",
      "<style>@import\"https://fonts.googleapis.com/css?family=Montserrat:300,400,500,600,700\";@charset \"UTF-8\";:root{--bs-blue:#0d6efd;--bs-indigo:#6610f2;--bs-purple:#6f42c1;--bs-pink:#d63384;--bs-red:#dc3545;--bs-orange:#fd7e14;--bs-yellow:#ffc107;--bs-green:#198754;--bs-teal:#20c997;--bs-cyan:#0dcaf0;--bs-white:#fff;--bs-gray:#6c757d;--bs-gray-dark:#343a40;--bs-gray-100:#f8f9fa;--bs-gray-200:#e9ecef;--bs-gray-300:#dee2e6;--bs-gray-400:#ced4da;--bs-gray-500:#adb5bd;--bs-gray-600:#6c757d;--bs-gray-700:#495057;--bs-gray-800:#343a40;--bs-gray-900:#212529;--bs-primary:#0d6efd;--bs-secondary:#6c757d;--bs-success:#198754;--bs-info:#0dcaf0;--bs-warning:#ffc107;--bs-danger:#dc3545;--bs-light:#f8f9fa;--bs-dark:#212529;--bs-primary-rgb:13, 110, 253;--bs-secondary-rgb:108, 117, 125;--bs-success-rgb:25, 135, 84;--bs-info-rgb:13, 202, 240;--bs-warning-rgb:255, 193, 7;--bs-danger-rgb:220, 53, 69;--bs-light-rgb:248, 249, 250;--bs-dark-rgb:33, 37, 41;--bs-white-rgb:255, 255, 255;--bs-black-rgb:0, 0, 0;--bs-body-color-rgb:33, 37, 41;--bs-body-bg-rgb:255, 255, 255;--bs-font-sans-serif:system-ui, -apple-system, \"Segoe UI\", Roboto, \"Helvetica Neue\", Arial, \"Noto Sans\", \"Liberation Sans\", sans-serif, \"Apple Color Emoji\", \"Segoe UI Emoji\", \"Segoe UI Symbol\", \"Noto Color Emoji\";--bs-font-monospace:SFMono-Regular, Menlo, Monaco, Consolas, \"Liberation Mono\", \"Courier New\", monospace;--bs-gradient:linear-gradient(180deg, rgba(255, 255, 255, .15), rgba(255, 255, 255, 0));--bs-body-font-family:var(--bs-font-sans-serif);--bs-body-font-size:1rem;--bs-body-font-weight:400;--bs-body-line-height:1.5;--bs-body-color:#212529;--bs-body-bg:white}*,*:before,*:after{box-sizing:border-box}@media (prefers-reduced-motion: no-preference){:root{scroll-behavior:smooth}}body{margin:0;font-family:var(--bs-body-font-family);font-size:var(--bs-body-font-size);font-weight:var(--bs-body-font-weight);line-height:var(--bs-body-line-height);color:var(--bs-body-color);text-align:var(--bs-body-text-align);background-color:var(--bs-body-bg);-webkit-text-size-adjust:100%;-webkit-tap-highlight-color:rgba(0,0,0,0)}html,body{font-family:Montserrat,sans-serif;color:#304753}#loader{position:absolute;inset:0;margin:auto;border:10px solid #e9ecef;border-top-color:#ef3829;border-radius:50%;width:100px;height:100px;animation:spin 2s linear infinite}@keyframes spin{0%{transform:rotate(0)}to{transform:rotate(360deg)}}:root{--swiper-theme-color:#007aff}:root{--swiper-navigation-size:44px}</style><link crossorigin=\"use-credentials\" href=\"styles.da4bde4d22465613.css\" media=\"print\" onload=\"this.media='all'\" rel=\"stylesheet\"/><noscript><link href=\"styles.da4bde4d22465613.css\" rel=\"stylesheet\"/></noscript>\n",
      "<noscript>\n",
      "<iframe height=\"0\" src=\"https://www.googletagmanager.com/ns.html?id=GTM-5C2GPMG\" style=\"display:none;visibility:hidden\" width=\"0\"></iframe>\n",
      "</noscript>\n",
      "<app-root>\n",
      "<div id=\"loader\"></div>\n",
      "</app-root>\n",
      "<script crossorigin=\"use-credentials\" src=\"runtime.9fa620fe5d9856c1.js\" type=\"module\"></script><script crossorigin=\"use-credentials\" src=\"polyfills.47b941bf71538459.js\" type=\"module\"></script><script crossorigin=\"use-credentials\" src=\"main.fd5d0013bd84b0f5.js\" type=\"module\"></script>\n",
      "<style>\n",
      "  @media screen {\n",
      "    @page { margin: 0; }\n",
      "  }\n",
      "  @media print {\n",
      "    @page {\n",
      "      margin-top: 1in;\n",
      "      margin-bottom: 1in;\n",
      "    }\n",
      "  }\n",
      "  body {\n",
      "    -webkit-print-color-adjust: exact;\n",
      "  }\n",
      "</style>\n",
      "</body></html>\n"
     ]
    }
   ],
   "source": [
    "print(soup)"
   ]
  },
  {
   "cell_type": "code",
   "execution_count": 12,
   "metadata": {},
   "outputs": [],
   "source": [
    "# Find elements containing listings - adjust the selector as per the website's structure\n",
    "listings = soup.find_all('TAG_NAME', class_='col-8 handling-method-sticker')\n",
    "\n",
    "# Loop through listings and extract data\n",
    "for listing in listings:\n",
    "    # Extract data like title, price, etc.\n",
    "    title = listing.find('TAG_NAME', class_='app-property-display').text\n",
    "    # Continue extracting other data as needed\n",
    "\n",
    "    # Print or store the extracted data\n",
    "    print(title)\n",
    "    # Continue with other data"
   ]
  },
  {
   "cell_type": "markdown",
   "metadata": {},
   "source": []
  },
  {
   "cell_type": "code",
   "execution_count": 13,
   "metadata": {},
   "outputs": [
    {
     "name": "stdout",
     "output_type": "stream",
     "text": [
      "Collecting beautifulsoup\n",
      "  Using cached BeautifulSoup-3.2.2.tar.gz (32 kB)\n",
      "  Preparing metadata (setup.py) ... \u001b[?25lerror\n",
      "  \u001b[1;31merror\u001b[0m: \u001b[1msubprocess-exited-with-error\u001b[0m\n",
      "  \n",
      "  \u001b[31m×\u001b[0m \u001b[32mpython setup.py egg_info\u001b[0m did not run successfully.\n",
      "  \u001b[31m│\u001b[0m exit code: \u001b[1;36m1\u001b[0m\n",
      "  \u001b[31m╰─>\u001b[0m \u001b[31m[7 lines of output]\u001b[0m\n",
      "  \u001b[31m   \u001b[0m Traceback (most recent call last):\n",
      "  \u001b[31m   \u001b[0m   File \"<string>\", line 2, in <module>\n",
      "  \u001b[31m   \u001b[0m   File \"<pip-setuptools-caller>\", line 34, in <module>\n",
      "  \u001b[31m   \u001b[0m   File \"/private/var/folders/qq/3m8nq_ls0rj7d75bks5prfyw0000gn/T/pip-install-kkt20jnr/beautifulsoup_2135ce4e292c4aea9c4ed0db88acbd9d/setup.py\", line 3\n",
      "  \u001b[31m   \u001b[0m     \"You're trying to run a very old release of Beautiful Soup under Python 3. This will not work.\"<>\"Please use Beautiful Soup 4, available through the pip package 'beautifulsoup4'.\"\n",
      "  \u001b[31m   \u001b[0m                                                                                                    ^\n",
      "  \u001b[31m   \u001b[0m SyntaxError: invalid syntax\n",
      "  \u001b[31m   \u001b[0m \u001b[31m[end of output]\u001b[0m\n",
      "  \n",
      "  \u001b[1;35mnote\u001b[0m: This error originates from a subprocess, and is likely not a problem with pip.\n",
      "\u001b[?25h\u001b[1;31merror\u001b[0m: \u001b[1mmetadata-generation-failed\u001b[0m\n",
      "\n",
      "\u001b[31m×\u001b[0m Encountered error while generating package metadata.\n",
      "\u001b[31m╰─>\u001b[0m See above for output.\n",
      "\n",
      "\u001b[1;35mnote\u001b[0m: This is an issue with the package mentioned above, not pip.\n",
      "\u001b[1;36mhint\u001b[0m: See above for details.\n"
     ]
    }
   ],
   "source": [
    "!pip install beautifulsoup"
   ]
  },
  {
   "cell_type": "code",
   "execution_count": null,
   "metadata": {},
   "outputs": [],
   "source": []
  }
 ],
 "metadata": {
  "kernelspec": {
   "display_name": "venv",
   "language": "python",
   "name": "python3"
  },
  "language_info": {
   "codemirror_mode": {
    "name": "ipython",
    "version": 3
   },
   "file_extension": ".py",
   "mimetype": "text/x-python",
   "name": "python",
   "nbconvert_exporter": "python",
   "pygments_lexer": "ipython3",
   "version": "3.9.6"
  },
  "orig_nbformat": 4
 },
 "nbformat": 4,
 "nbformat_minor": 2
}
