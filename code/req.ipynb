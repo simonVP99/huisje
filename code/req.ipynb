{
 "cells": [
  {
   "cell_type": "code",
   "execution_count": 8,
   "metadata": {},
   "outputs": [],
   "source": [
    "import functions"
   ]
  },
  {
   "cell_type": "code",
   "execution_count": 13,
   "metadata": {},
   "outputs": [],
   "source": [
    "url = 'https://www.biddit.be/nl/catalog/detail/252200'\n",
    "path = '../data/test/'+url.split('/')[-1]+'.txt'\n",
    "path\n",
    "functions.scrape_and_save(url, path)"
   ]
  },
  {
   "cell_type": "code",
   "execution_count": null,
   "metadata": {},
   "outputs": [],
   "source": []
  },
  {
   "cell_type": "code",
   "execution_count": 1,
   "metadata": {},
   "outputs": [
    {
     "name": "stderr",
     "output_type": "stream",
     "text": [
      "/Users/simon/Desktop/personal/huisje/venv/lib/python3.9/site-packages/urllib3/__init__.py:34: NotOpenSSLWarning: urllib3 v2 only supports OpenSSL 1.1.1+, currently the 'ssl' module is compiled with 'LibreSSL 2.8.3'. See: https://github.com/urllib3/urllib3/issues/3020\n",
      "  warnings.warn(\n"
     ]
    },
    {
     "name": "stdout",
     "output_type": "stream",
     "text": [
      "\n",
      "\n",
      "\n",
      "Biddit - Herenhuis te koop te Gent (9000) - 4 kamer(s) - 300000€\n",
      "\n",
      "\n",
      "\n",
      "\n",
      "\n",
      "\n",
      "\n",
      "\n",
      "\n",
      "\n",
      "\n",
      "\n",
      "\n",
      "\n",
      "\n",
      "\n",
      "\n",
      "Aanmelden NL  Nederlands  Français  Deutsch  FAQ Je mening telt Homepage  Registreren of aanmelden Zoeken  Taal  FAQ 1 / 18 +14  Herenhuis te koop   - 4 kamer(s)  9000 Gent  - Holstraat 10    Tonen op kaart  Openbare verkoop\n",
      "HerenhuisCode: 251857 E-mail  Facebook  LinkedIn  Twitter 18744704557 Te renoveren woning met tuin in het hartje van Gent  Unieke  ruime woning op een uitzonderlijk goede locatie in het centrum van Gent.\n",
      "Indeling:\n",
      "glvl: grote inkom, voorkamer, living (zit en eetplaats), grote ruime veranda, kelder, keuken, toilet, badkamer (bad en lavabo), ommuurde stadstuin met terras.\n",
      "1 e verd: 2 slaapkamers\n",
      "2e verd: 2 slaapkamers\n",
      "zolderverdiep: grote zolder\n",
      "Dubbel glas vooraan in de kamers en voor het overige enkel glas, het dak is geïsoleerd, gasvuren.\n",
      "De woning is op dit moment verhuurd aan 645,00 euro.\n",
      "  Minder details Kenmerken van het goedBouwjaar1874 Oppervlakte grond165  m²Aantal slaapkamers4 Staat van het gebouwTe renoverenVerwarmingstypeGasEnergiegegevensUnieke code van het EPC-certificaatUC 20231215 - 0003076924- RES-1  Energiescore (kengetal) van het energieprestatiecertificaat (EPC)557 EPCDe wettelijke verplichting tot renovatie is mogelijks van toepassing op dit goed.Dubbele beglazingAndere opmerkingen- beschermd is als stads- of dorpsgezicht: Dominicanenklooster met omgeving, en grenst aan beschermd monument het Dominicanenklooster: Dominicanenkerk, zoals omschreven in hoofdstuk 6 van het Onroerenderfgoeddecreet. \n",
      "- Ligt in UNESCO Werelderfgoed bufferzones: Belfort, Lakenhal en Mammelokker: buffer.\n",
      "- Ligt in een vastgestelde inventaris bouwkundig erfgoed: Dominicanenklooster met omgeving en Bugerhuizen.\n",
      "- Vastgestelde inventaris archeologische zones: Historische stadskern van Gent.\n",
      " Financiële aspectenVrij vanafTe bepalenKadastraal inkomen€ 704 Stedenbouwkundige gegevensDe meest recente stedebouwkundige bestemming met de benamingen die gebruikt zijn in het plannenregister.woongebied met cultureel, historische en/of esthetische waarde. Type overstromingsgebiedNiet van toepassingG-score overstromingsgebiedD - middelgrote overstromingskans onder huidig klimaatP-score overstromingsgebiedD - middelgrote overstromingskans onder huidig klimaat(procedure lopende inzake) herstelmaatregel ruimtelijke ordeningStedenbouwkundige vergunningVerkavelingsvergunningRecht van voorkoop RUPGegevens met betrekking tot de bescherming van het erfgoedIs het onroerend goed beschermd of opgenomen in een vastgestelde inventaris? (info: www.onroerenderfgoed.be)JaType inventarisBeschermd stadsgezicht Toon minder details  Info toewijzing (onder voorbehoud)  DINSDAG 20 FEBRUARI 2024 om 17.00 uur.  Dit goed delen: Start op 08/02/2024 om 10:00 eindigt op 16/02/2024 om 10:00 uur  Bieden vanaf  € 300.000  Bieden  Contacteer het notariskantoor  Belangrijke informatie U blijft gebonden door uw bod zelfs indien iemand een hoger bod heeft uitgebracht dan u. Indien de notaris u uitnodigt om de verkoopakte te ondertekenen en u niet verschijnt, moet u een schadevergoeding betalen.Uw bod moet het huidige bod met minimaal € 1.000 overschrijden. De biedingsperiode van deze verkoop eindigt op 10:00 op de laatste biedingsdag. Indien één of meerdere biedingen worden uitgebracht tijdens de laatste vijf minuten van de initiële biedingsperiode, zal de verkoop verlengd worden met vijf minuten tot ten laatste 23:59.  Enkel de bieders die reeds een bod hebben uitgebracht tijdens de initiële biedingsperiode kunnen biedingen uitbrengen tijdens de verlenging.De aktekosten van de aankoop moeten worden betaald op het ogenblik van de ondertekening van het proces-verbaal van toewijzing, doch uiterlijk vijf dagen na de afsluiting van de biedingsperiode.Wenst u het biedingsproces te testen? Probeer het hier uit Meer weten over de procedure?  Raadpleeg onze FAQ  Wilt u de kosten voor uw aankoop en uw krediet berekenen?  Ga dan naar de kostencalculator. Notaris Peter Calliauw Brugsesteenweg 555, 9030 Mariakerke (Gent) Wilt u meer weten over deze advertentie? Melissa VERSTRAETE (09) 223.17.31melissa.verstraete.133652@belnot.beBezoekBEZOEK NA TELEFONISCHE AFSPRAAK MET NOTARIAAT CALLIAUW OP 09/224.17.51InfosessieNa telefonische afspraak Belangrijke documenten van de verkoop Verkoopsvoorwaarden.pdf Belangrijke documenten van het goed Varia.pdfElektrische installatie.pdfVoorkooprecht.pdfWaterinfo.pdfKadaster.pdfStedenbouw.pdfStedenbouw(2).pdfBodemattest.pdfWaterinfo(2).pdfEPC.pdfAsbestinventarisattest.pdfWaterinfo(3).pdfAndere panden waarin u geïnteresseerd zou kunnen zijn € 152.000  Eindigt op 24/01 11:00  Openbare verkoop\n",
      "104 m²31 CENTRAAL GELEGEN WONING  Herlegemstraat 1  - 9040 Sint-Amandsberg € 365.000  Uit de hand\n",
      "214 m²41 Statige en ruime woning te koop op steenworp van Gent  Aannemersstraat 134  - 9040 Sint-AmandsbergToon meerBiddit is het online verkoopplatform van de Belgische notarissen. Via Biddit kunnen kandidaat-kopers vanuit hun luie zetel een eigendom aankopen. Het volledige verkoopproces verloopt online en onder toezicht van een notaris.GebruiksvoorwaardenPrivacyCookiebeleidBijkomende InformatieBiddit online openbare verkoop in 11 vragenVind een notarisEen woning kopenEen woning verkopenHuren en verhurenContacteer onsAlle rechten voorbehouden©2023 Koninklijke Federatie van het Belgisch Notariaat\n",
      "\n",
      "\n",
      "\n",
      "\n",
      "\n",
      "\n",
      "\n",
      "\n",
      "\n",
      "\n",
      "\n",
      "\n"
     ]
    }
   ],
   "source": [
    "from selenium import webdriver\n",
    "from selenium.webdriver.common.by import By\n",
    "from selenium.webdriver.support.ui import WebDriverWait\n",
    "from selenium.webdriver.support import expected_conditions as EC\n",
    "from bs4 import BeautifulSoup\n",
    "import functions\n",
    "import time\n",
    "\n",
    "# Initialize the WebDriver\n",
    "driver = webdriver.Chrome()\n",
    "\n",
    "url = 'https://www.biddit.be/nl/catalog/detail/251857'\n",
    "# Open the website\n",
    "driver.get(url)\n",
    "\n",
    "# Set a timeout for waiting (e.g., 10 seconds)\n",
    "timeout = 10\n",
    "\n",
    "try:\n",
    "    # Wait until the cookie acceptance button is present\n",
    "    cookie_button = WebDriverWait(driver, timeout).until(\n",
    "        EC.presence_of_element_located((By.CSS_SELECTOR, \"button.btn.btn-primary.mb-2\"))\n",
    "    )\n",
    "    # Adjust the scroll to center the cookie button in view\n",
    "    driver.execute_script(\"arguments[0].scrollIntoView({behavior: 'smooth', block: 'center'});\", cookie_button)\n",
    "    cookie_button.click()\n",
    "\n",
    "    # Wait for a brief moment to allow page adjustment\n",
    "    WebDriverWait(driver, timeout).until(EC.staleness_of(cookie_button))\n",
    "\n",
    "    # Wait until the 'Toon meer details' button is present\n",
    "    details_button = WebDriverWait(driver, timeout).until(\n",
    "        EC.presence_of_element_located((By.CSS_SELECTOR, \"a.d-inline.ng-star-inserted\"))\n",
    "    )\n",
    "    # Adjust the scroll to center the 'Toon meer details' button in view\n",
    "    driver.execute_script(\"arguments[0].scrollIntoView({behavior: 'smooth', block: 'center'});\", details_button)\n",
    "    time.sleep(1)\n",
    "    details_button.click()\n",
    "\n",
    "    # Try to find the second 'Meer details' button and click it if it exists\n",
    "    try:\n",
    "        more_details_button = WebDriverWait(driver, timeout).until(\n",
    "            EC.presence_of_element_located((By.CSS_SELECTOR, \"a.view-more-link\"))\n",
    "        )\n",
    "        # Adjust the scroll to center the second 'Meer details' button in view\n",
    "        driver.execute_script(\"arguments[0].scrollIntoView({behavior: 'smooth', block: 'center'});\", more_details_button)\n",
    "        time.sleep(1)\n",
    "        more_details_button.click()\n",
    "    except Exception:\n",
    "        # If the 'Meer details' button does not exist, just pass\n",
    "        pass\n",
    "\n",
    "except Exception as e:\n",
    "    print(\"Error: \", e)\n",
    "\n",
    "# Extract the page source\n",
    "html = driver.page_source\n",
    "\n",
    "# Use BeautifulSoup to parse the HTML\n",
    "soup = BeautifulSoup(html, 'html.parser')\n",
    "\n",
    "# Extract and print text\n",
    "page_text = soup.get_text()\n",
    "print(page_text)\n",
    "\n",
    "# Write the text to a file\n",
    "with open('webpage_text.txt', 'w', encoding='utf-8') as file:\n",
    "    file.write(page_text)\n",
    "\n",
    "# Close the driver\n",
    "driver.quit()\n"
   ]
  },
  {
   "cell_type": "code",
   "execution_count": 2,
   "metadata": {},
   "outputs": [
    {
     "data": {
      "text/plain": [
       "'\\n\\n\\nBiddit - Herenhuis te koop te Gent (9000) - 4 kamer(s) - 300000€\\n\\n\\n\\n\\n\\n\\n\\n\\n\\n\\n\\n\\n\\n\\n\\n\\n\\nAanmelden NL  Nederlands  Français  Deutsch  FAQ Je mening telt Homepage  Registreren of aanmelden Zoeken  Taal  FAQ 1 / 18 +14  Herenhuis te koop   - 4 kamer(s)  9000 Gent  - Holstraat 10    Tonen op kaart  Openbare verkoop\\nHerenhuisCode: 251857 E-mail  Facebook  LinkedIn  Twitter 18744704557 Te renoveren woning met tuin in het hartje van Gent  Unieke  ruime woning op een uitzonderlijk goede locatie in het centrum van Gent.\\nIndeling:\\nglvl: grote inkom, voorkamer, living (zit en eetplaats), grote ruime veranda, kelder, keuken, toilet, badkamer (bad en lavabo), ommuurde stadstuin met terras.\\n1 e verd: 2 slaapkamers\\n2e verd: 2 slaapkamers\\nzolderverdiep: grote zolder\\nDubbel glas vooraan in de kamers en voor het overige enkel glas, het dak is geïsoleerd, gasvuren.\\nDe woning is op dit moment verhuurd aan 645,00 euro.\\n  Minder details Kenmerken van het goedBouwjaar1874 Oppervlakte grond165  m²Aantal slaapkamers4 Staat van het gebouwTe renoverenVerwarmingstypeGasEnergiegegevensUnieke code van het EPC-certificaatUC 20231215 - 0003076924- RES-1  Energiescore (kengetal) van het energieprestatiecertificaat (EPC)557 EPCDe wettelijke verplichting tot renovatie is mogelijks van toepassing op dit goed.Dubbele beglazingAndere opmerkingen- beschermd is als stads- of dorpsgezicht: Dominicanenklooster met omgeving, en grenst aan beschermd monument het Dominicanenklooster: Dominicanenkerk, zoals omschreven in hoofdstuk 6 van het Onroerenderfgoeddecreet. \\n- Ligt in UNESCO Werelderfgoed bufferzones: Belfort, Lakenhal en Mammelokker: buffer.\\n- Ligt in een vastgestelde inventaris bouwkundig erfgoed: Dominicanenklooster met omgeving en Bugerhuizen.\\n- Vastgestelde inventaris archeologische zones: Historische stadskern van Gent.\\n Financiële aspectenVrij vanafTe bepalenKadastraal inkomen€\\xa0704 Stedenbouwkundige gegevensDe meest recente stedebouwkundige bestemming met de benamingen die gebruikt zijn in het plannenregister.woongebied met cultureel, historische en/of esthetische waarde. Type overstromingsgebiedNiet van toepassingG-score overstromingsgebiedD - middelgrote overstromingskans onder huidig klimaatP-score overstromingsgebiedD - middelgrote overstromingskans onder huidig klimaat(procedure lopende inzake) herstelmaatregel ruimtelijke ordeningStedenbouwkundige vergunningVerkavelingsvergunningRecht van voorkoop RUPGegevens met betrekking tot de bescherming van het erfgoedIs het onroerend goed beschermd of opgenomen in een vastgestelde inventaris? (info: www.onroerenderfgoed.be)JaType inventarisBeschermd stadsgezicht Toon minder details  Info toewijzing (onder voorbehoud)  DINSDAG 20 FEBRUARI 2024 om 17.00 uur.  Dit goed delen: Start op 08/02/2024 om 10:00 eindigt op 16/02/2024 om 10:00 uur  Bieden vanaf  €\\xa0300.000  Bieden  Contacteer het notariskantoor  Belangrijke informatie U blijft gebonden door uw bod zelfs indien iemand een hoger bod heeft uitgebracht dan u. Indien de notaris u uitnodigt om de verkoopakte te ondertekenen en u niet verschijnt, moet u een schadevergoeding betalen.Uw bod moet het huidige bod met minimaal €\\xa01.000 overschrijden. De biedingsperiode van deze verkoop eindigt op 10:00 op de laatste biedingsdag. Indien één of meerdere biedingen worden uitgebracht tijdens de laatste vijf minuten van de initiële biedingsperiode, zal de verkoop verlengd worden met vijf minuten tot ten laatste 23:59.  Enkel de bieders die reeds een bod hebben uitgebracht tijdens de initiële biedingsperiode kunnen biedingen uitbrengen tijdens de verlenging.De aktekosten van de aankoop moeten worden betaald op het ogenblik van de ondertekening van het proces-verbaal van toewijzing, doch uiterlijk vijf dagen na de afsluiting van de biedingsperiode.Wenst u het biedingsproces te testen? Probeer het hier uit Meer weten over de procedure?  Raadpleeg onze FAQ  Wilt u de kosten voor uw aankoop en uw krediet berekenen?  Ga dan naar de kostencalculator. Notaris Peter Calliauw Brugsesteenweg 555, 9030 Mariakerke (Gent) Wilt u meer weten over deze advertentie? Melissa VERSTRAETE (09) 223.17.31melissa.verstraete.133652@belnot.beBezoekBEZOEK NA TELEFONISCHE AFSPRAAK MET NOTARIAAT CALLIAUW OP 09/224.17.51InfosessieNa telefonische afspraak Belangrijke documenten van de verkoop Verkoopsvoorwaarden.pdf Belangrijke documenten van het goed Varia.pdfElektrische installatie.pdfVoorkooprecht.pdfWaterinfo.pdfKadaster.pdfStedenbouw.pdfStedenbouw(2).pdfBodemattest.pdfWaterinfo(2).pdfEPC.pdfAsbestinventarisattest.pdfWaterinfo(3).pdfAndere panden waarin u geïnteresseerd zou kunnen zijn €\\xa0152.000  Eindigt op 24/01 11:00  Openbare verkoop\\n104 m²31 CENTRAAL GELEGEN WONING  Herlegemstraat 1  - 9040 Sint-Amandsberg €\\xa0365.000  Uit de hand\\n214 m²41 Statige en ruime woning te koop op steenworp van Gent  Aannemersstraat 134  - 9040 Sint-AmandsbergToon meerBiddit is het online verkoopplatform van de Belgische notarissen. Via Biddit kunnen kandidaat-kopers vanuit hun luie zetel een eigendom aankopen. Het volledige verkoopproces verloopt online en onder toezicht van een notaris.GebruiksvoorwaardenPrivacyCookiebeleidBijkomende InformatieBiddit online openbare verkoop in 11 vragenVind een notarisEen woning kopenEen woning verkopenHuren en verhurenContacteer onsAlle rechten voorbehouden©2023 Koninklijke Federatie van het Belgisch Notariaat\\n\\n\\n\\n\\n\\n\\n\\n\\n\\n\\n\\n'"
      ]
     },
     "execution_count": 2,
     "metadata": {},
     "output_type": "execute_result"
    }
   ],
   "source": [
    "soup.text"
   ]
  },
  {
   "cell_type": "code",
   "execution_count": 3,
   "metadata": {},
   "outputs": [],
   "source": [
    "import requests\n",
    "from bs4 import BeautifulSoup\n",
    "\n",
    "# URL of the site to scrape\n",
    "url = 'https://www.biddit.be/nl/search?lat=51.0397129&lng=3.7141549000597&municipalities=Gent&types=HOUSE&nonActive=true&sortVal=&sortKey=searchcomponent.order.enddate&page=1&maps=false'\n",
    "\n",
    "\n",
    "# Send a request to the URL\n",
    "response = requests.get(url)\n",
    "\n",
    "# Parse the HTML content\n",
    "soup = BeautifulSoup(response.text, 'html.parser')\n",
    "\n"
   ]
  },
  {
   "cell_type": "code",
   "execution_count": 4,
   "metadata": {},
   "outputs": [
    {
     "name": "stdout",
     "output_type": "stream",
     "text": [
      "<!DOCTYPE html>\n",
      "<html lang=\"nl\"><head>\n",
      "<meta charset=\"utf-8\"/>\n",
      "<meta content=\"notranslate\" name=\"google\"/>\n",
      "<title>Biddit</title>\n",
      "<base href=\"/\"/>\n",
      "<meta content=\"Bent u op zoek naar een onroerend goed te koop in België? Koop of verkoop Online een goed op Biddit met het advies van uw notaris en in alle vertrouwen : huis, appartement, garage, grond, kantoren, commercieel gebouw of industrie.\" name=\"description\"/>\n",
      "<meta content=\"wca8x3ahlgrc4m324fqkueaycp2dgy\" name=\"facebook-domain-verification\"/>\n",
      "<meta content=\"width=device-width, initial-scale=1.0, maximum-scale=5.0\" name=\"viewport\"/>\n",
      "<link href=\"favicon_v2.ico\" rel=\"icon\" type=\"image/x-icon\"/>\n",
      "</head><body>\n",
      "<script async=\"async\">\n",
      "    (function (w, d, s, l, i) {\n",
      "      w[l] = w[l] || [];\n",
      "      w[l].push({\n",
      "        'gtm.start':\n",
      "          new Date().getTime(), event: 'gtm.js'\n",
      "      });\n",
      "      var f = d.getElementsByTagName(s)[0],\n",
      "        j = d.createElement(s), dl = l != 'dataLayer' ? '&l=' + l : '';\n",
      "      j.async = true;\n",
      "      j.src =\n",
      "        'https://www.googletagmanager.com/gtm.js?id=' + i + dl;\n",
      "      f.parentNode.insertBefore(j, f);\n",
      "    })(window, document, 'script', 'dataLayer', 'GTM-5C2GPMG');\n",
      "  </script>\n",
      "<style>@import\"https://fonts.googleapis.com/css?family=Montserrat:300,400,500,600,700\";@charset \"UTF-8\";:root{--bs-blue:#0d6efd;--bs-indigo:#6610f2;--bs-purple:#6f42c1;--bs-pink:#d63384;--bs-red:#dc3545;--bs-orange:#fd7e14;--bs-yellow:#ffc107;--bs-green:#198754;--bs-teal:#20c997;--bs-cyan:#0dcaf0;--bs-white:#fff;--bs-gray:#6c757d;--bs-gray-dark:#343a40;--bs-gray-100:#f8f9fa;--bs-gray-200:#e9ecef;--bs-gray-300:#dee2e6;--bs-gray-400:#ced4da;--bs-gray-500:#adb5bd;--bs-gray-600:#6c757d;--bs-gray-700:#495057;--bs-gray-800:#343a40;--bs-gray-900:#212529;--bs-primary:#0d6efd;--bs-secondary:#6c757d;--bs-success:#198754;--bs-info:#0dcaf0;--bs-warning:#ffc107;--bs-danger:#dc3545;--bs-light:#f8f9fa;--bs-dark:#212529;--bs-primary-rgb:13, 110, 253;--bs-secondary-rgb:108, 117, 125;--bs-success-rgb:25, 135, 84;--bs-info-rgb:13, 202, 240;--bs-warning-rgb:255, 193, 7;--bs-danger-rgb:220, 53, 69;--bs-light-rgb:248, 249, 250;--bs-dark-rgb:33, 37, 41;--bs-white-rgb:255, 255, 255;--bs-black-rgb:0, 0, 0;--bs-body-color-rgb:33, 37, 41;--bs-body-bg-rgb:255, 255, 255;--bs-font-sans-serif:system-ui, -apple-system, \"Segoe UI\", Roboto, \"Helvetica Neue\", Arial, \"Noto Sans\", \"Liberation Sans\", sans-serif, \"Apple Color Emoji\", \"Segoe UI Emoji\", \"Segoe UI Symbol\", \"Noto Color Emoji\";--bs-font-monospace:SFMono-Regular, Menlo, Monaco, Consolas, \"Liberation Mono\", \"Courier New\", monospace;--bs-gradient:linear-gradient(180deg, rgba(255, 255, 255, .15), rgba(255, 255, 255, 0));--bs-body-font-family:var(--bs-font-sans-serif);--bs-body-font-size:1rem;--bs-body-font-weight:400;--bs-body-line-height:1.5;--bs-body-color:#212529;--bs-body-bg:white}*,*:before,*:after{box-sizing:border-box}@media (prefers-reduced-motion: no-preference){:root{scroll-behavior:smooth}}body{margin:0;font-family:var(--bs-body-font-family);font-size:var(--bs-body-font-size);font-weight:var(--bs-body-font-weight);line-height:var(--bs-body-line-height);color:var(--bs-body-color);text-align:var(--bs-body-text-align);background-color:var(--bs-body-bg);-webkit-text-size-adjust:100%;-webkit-tap-highlight-color:rgba(0,0,0,0)}html,body{font-family:Montserrat,sans-serif;color:#304753}#loader{position:absolute;inset:0;margin:auto;border:10px solid #e9ecef;border-top-color:#ef3829;border-radius:50%;width:100px;height:100px;animation:spin 2s linear infinite}@keyframes spin{0%{transform:rotate(0)}to{transform:rotate(360deg)}}:root{--swiper-theme-color:#007aff}:root{--swiper-navigation-size:44px}</style><link crossorigin=\"use-credentials\" href=\"styles.da4bde4d22465613.css\" media=\"print\" onload=\"this.media='all'\" rel=\"stylesheet\"/><noscript><link href=\"styles.da4bde4d22465613.css\" rel=\"stylesheet\"/></noscript>\n",
      "<noscript>\n",
      "<iframe height=\"0\" src=\"https://www.googletagmanager.com/ns.html?id=GTM-5C2GPMG\" style=\"display:none;visibility:hidden\" width=\"0\"></iframe>\n",
      "</noscript>\n",
      "<app-root>\n",
      "<div id=\"loader\"></div>\n",
      "</app-root>\n",
      "<script crossorigin=\"use-credentials\" src=\"runtime.9fa620fe5d9856c1.js\" type=\"module\"></script><script crossorigin=\"use-credentials\" src=\"polyfills.47b941bf71538459.js\" type=\"module\"></script><script crossorigin=\"use-credentials\" src=\"main.fd5d0013bd84b0f5.js\" type=\"module\"></script>\n",
      "<style>\n",
      "  @media screen {\n",
      "    @page { margin: 0; }\n",
      "  }\n",
      "  @media print {\n",
      "    @page {\n",
      "      margin-top: 1in;\n",
      "      margin-bottom: 1in;\n",
      "    }\n",
      "  }\n",
      "  body {\n",
      "    -webkit-print-color-adjust: exact;\n",
      "  }\n",
      "</style>\n",
      "</body></html>\n"
     ]
    }
   ],
   "source": [
    "print(soup)"
   ]
  },
  {
   "cell_type": "code",
   "execution_count": 5,
   "metadata": {},
   "outputs": [],
   "source": [
    "# Find elements containing listings - adjust the selector as per the website's structure\n",
    "listings = soup.find_all('TAG_NAME', class_='col-8 handling-method-sticker')\n",
    "\n",
    "# Loop through listings and extract data\n",
    "for listing in listings:\n",
    "    # Extract data like title, price, etc.\n",
    "    title = listing.find('TAG_NAME', class_='app-property-display').text\n",
    "    # Continue extracting other data as needed\n",
    "\n",
    "    # Print or store the extracted data\n",
    "    print(title)\n",
    "    # Continue with other data"
   ]
  },
  {
   "cell_type": "markdown",
   "metadata": {},
   "source": []
  },
  {
   "cell_type": "code",
   "execution_count": 6,
   "metadata": {},
   "outputs": [
    {
     "name": "stdout",
     "output_type": "stream",
     "text": [
      "Collecting beautifulsoup\n",
      "  Using cached BeautifulSoup-3.2.2.tar.gz (32 kB)\n",
      "  Preparing metadata (setup.py) ... \u001b[?25lerror\n",
      "  \u001b[1;31merror\u001b[0m: \u001b[1msubprocess-exited-with-error\u001b[0m\n",
      "  \n",
      "  \u001b[31m×\u001b[0m \u001b[32mpython setup.py egg_info\u001b[0m did not run successfully.\n",
      "  \u001b[31m│\u001b[0m exit code: \u001b[1;36m1\u001b[0m\n",
      "  \u001b[31m╰─>\u001b[0m \u001b[31m[7 lines of output]\u001b[0m\n",
      "  \u001b[31m   \u001b[0m Traceback (most recent call last):\n",
      "  \u001b[31m   \u001b[0m   File \"<string>\", line 2, in <module>\n",
      "  \u001b[31m   \u001b[0m   File \"<pip-setuptools-caller>\", line 34, in <module>\n",
      "  \u001b[31m   \u001b[0m   File \"/private/var/folders/qq/3m8nq_ls0rj7d75bks5prfyw0000gn/T/pip-install-_6g4rsos/beautifulsoup_082fc36670234c8fa0c85399b512c237/setup.py\", line 3\n",
      "  \u001b[31m   \u001b[0m     \"You're trying to run a very old release of Beautiful Soup under Python 3. This will not work.\"<>\"Please use Beautiful Soup 4, available through the pip package 'beautifulsoup4'.\"\n",
      "  \u001b[31m   \u001b[0m                                                                                                    ^\n",
      "  \u001b[31m   \u001b[0m SyntaxError: invalid syntax\n",
      "  \u001b[31m   \u001b[0m \u001b[31m[end of output]\u001b[0m\n",
      "  \n",
      "  \u001b[1;35mnote\u001b[0m: This error originates from a subprocess, and is likely not a problem with pip.\n",
      "\u001b[?25h\u001b[1;31merror\u001b[0m: \u001b[1mmetadata-generation-failed\u001b[0m\n",
      "\n",
      "\u001b[31m×\u001b[0m Encountered error while generating package metadata.\n",
      "\u001b[31m╰─>\u001b[0m See above for output.\n",
      "\n",
      "\u001b[1;35mnote\u001b[0m: This is an issue with the package mentioned above, not pip.\n",
      "\u001b[1;36mhint\u001b[0m: See above for details.\n"
     ]
    }
   ],
   "source": []
  },
  {
   "cell_type": "code",
   "execution_count": 7,
   "metadata": {},
   "outputs": [],
   "source": [
    "url = 'https://www.biddit.be/nl/catalog/detail/250976'\n",
    "path = '../data/test/'+url.split('/')[-1]+'.txt'\n",
    "path\n",
    "functions.scrape_and_save(url, path)"
   ]
  },
  {
   "cell_type": "code",
   "execution_count": null,
   "metadata": {},
   "outputs": [],
   "source": []
  }
 ],
 "metadata": {
  "kernelspec": {
   "display_name": "venv",
   "language": "python",
   "name": "python3"
  },
  "language_info": {
   "codemirror_mode": {
    "name": "ipython",
    "version": 3
   },
   "file_extension": ".py",
   "mimetype": "text/x-python",
   "name": "python",
   "nbconvert_exporter": "python",
   "pygments_lexer": "ipython3",
   "version": "3.9.6"
  },
  "orig_nbformat": 4
 },
 "nbformat": 4,
 "nbformat_minor": 2
}
